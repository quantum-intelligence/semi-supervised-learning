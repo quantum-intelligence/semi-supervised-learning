{
 "cells": [
  {
   "cell_type": "markdown",
   "metadata": {},
   "source": [
    "Create data set with SOAP descriptor calculated from crystal structure and chemical composition"
   ]
  },
  {
   "cell_type": "code",
   "execution_count": null,
   "metadata": {},
   "outputs": [],
   "source": [
    "import sys\n",
    "sys.path.append(\"/Users/trevorrhone/Documents/Code/Python/2dml\")"
   ]
  },
  {
   "cell_type": "code",
   "execution_count": 1,
   "metadata": {},
   "outputs": [
    {
     "data": {
      "text/plain": [
       "'/Users/trevorrhone/Documents-LOCAL/RPI/Projects/AE_NN'"
      ]
     },
     "execution_count": 1,
     "metadata": {},
     "output_type": "execute_result"
    }
   ],
   "source": [
    "pwd"
   ]
  },
  {
   "cell_type": "code",
   "execution_count": null,
   "metadata": {},
   "outputs": [],
   "source": [
    "import numpy as np\n",
    "np.random.seed(0)\n",
    "import pymatgen as mp\n",
    "# import tensorflow as tf\n",
    "# tf.compat.v1.random.set_random_seed(0)\n",
    "# from tensorflow.keras.layers import Input, Dense, Dropout\n",
    "# from tensorflow.keras.utils import to_categorical\n",
    "# from tensorflow.keras.models import Model\n",
    "# from keras.layers import LeakyReLU\n",
    "# import keras\n",
    "from sklearn.model_selection import train_test_split\n",
    "from sklearn.metrics import confusion_matrix\n",
    "from mpl_toolkits.mplot3d import Axes3D\n",
    "from mendeleev import element\n",
    "import matplotlib.pyplot as plt\n",
    "import pandas as pd\n",
    "from sklearn import preprocessing\n",
    "from importlib import reload\n",
    "from ase import Atoms\n",
    "import ase.db as ad\n",
    "import pickle\n",
    "#import django\n",
    "import ase\n",
    "import ase.io\n",
    "import os\n",
    "from dscribe.descriptors import SOAP\n",
    "from pymatgen.core.composition import Composition\n",
    "import pymatgen.core as mp\n",
    "from pymatgen.io.ase import AseAtomsAdaptor"
   ]
  },
  {
   "cell_type": "code",
   "execution_count": null,
   "metadata": {},
   "outputs": [],
   "source": [
    "# from NN_codes import *\n",
    "import alloy_functions\n",
    "reload(alloy_functions)\n",
    "from alloy_functions import *"
   ]
  },
  {
   "cell_type": "code",
   "execution_count": null,
   "metadata": {},
   "outputs": [],
   "source": [
    "import load_data\n",
    "reload(load_data)\n",
    "from load_data import *"
   ]
  },
  {
   "cell_type": "code",
   "execution_count": null,
   "metadata": {},
   "outputs": [],
   "source": [
    "pca_dim = 330 \n",
    "use_magmom = True\n",
    "\n",
    "reload_data = False\n",
    "\n",
    "load_data_output = Xy_gen(pca_dim, use_magmom, reload_data)\n",
    "X, y, X_pca, x, x_train, x_val, y_train, y_val, df, dfadd, df_mix, df_optima, maginfo, TESTinfo = load_data_output \n"
   ]
  }
 ],
 "metadata": {
  "kernelspec": {
   "display_name": "ae_env3",
   "language": "python",
   "name": "ae_env3"
  },
  "language_info": {
   "codemirror_mode": {
    "name": "ipython",
    "version": 3
   },
   "file_extension": ".py",
   "mimetype": "text/x-python",
   "name": "python",
   "nbconvert_exporter": "python",
   "pygments_lexer": "ipython3",
   "version": "3.9.1"
  }
 },
 "nbformat": 4,
 "nbformat_minor": 4
}
